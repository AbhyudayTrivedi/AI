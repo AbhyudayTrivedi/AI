{
 "cells": [
  {
   "cell_type": "code",
   "execution_count": null,
   "id": "ac5e1f1f",
   "metadata": {},
   "outputs": [],
   "source": [
    "list = []\n",
    "\n",
    "n = int(input(\"Enter number of elements : \"))\n",
    "\n",
    "for i in range(0, n):\n",
    "    x = int(input())\n",
    "  \n",
    "    list.append(x)\n",
    "      \n",
    "print(list)\n",
    "\n",
    "\n",
    "for num in list:\n",
    "    if num >= 0:\n",
    "        print(num)"
   ]
  }
 ],
 "metadata": {
  "kernelspec": {
   "display_name": "Python 3 (ipykernel)",
   "language": "python",
   "name": "python3"
  },
  "language_info": {
   "codemirror_mode": {
    "name": "ipython",
    "version": 3
   },
   "file_extension": ".py",
   "mimetype": "text/x-python",
   "name": "python",
   "nbconvert_exporter": "python",
   "pygments_lexer": "ipython3",
   "version": "3.9.12"
  }
 },
 "nbformat": 4,
 "nbformat_minor": 5
}
