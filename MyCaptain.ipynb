{
 "cells": [
  {
   "cell_type": "code",
   "execution_count": 8,
   "id": "b28e6701",
   "metadata": {
    "scrolled": true
   },
   "outputs": [
    {
     "name": "stdout",
     "output_type": "stream",
     "text": [
      "Enter number of elements : 4\n",
      "4\n",
      "5\n",
      "-4\n",
      "-5\n",
      "[4, 5, -4, -5]\n",
      "4\n",
      "5\n"
     ]
    }
   ],
   "source": [
    "list = []\n",
    "\n",
    "n = int(input(\"Enter number of elements : \"))\n",
    "\n",
    "for i in range(0, n):\n",
    "    x = int(input())\n",
    "  \n",
    "    list.append(x)\n",
    "      \n",
    "print(list)\n",
    "\n",
    "\n",
    "for num in list:\n",
    "    if num >= 0:\n",
    "        print(num)"
   ]
  },
  {
   "cell_type": "code",
   "execution_count": null,
   "id": "43665849",
   "metadata": {},
   "outputs": [],
   "source": []
  },
  {
   "cell_type": "code",
   "execution_count": null,
   "id": "49ee7a9e",
   "metadata": {},
   "outputs": [],
   "source": []
  },
  {
   "cell_type": "code",
   "execution_count": null,
   "id": "5bc5c34e",
   "metadata": {},
   "outputs": [],
   "source": []
  },
  {
   "cell_type": "code",
   "execution_count": null,
   "id": "e6150603",
   "metadata": {},
   "outputs": [],
   "source": []
  }
 ],
 "metadata": {
  "kernelspec": {
   "display_name": "Python 3 (ipykernel)",
   "language": "python",
   "name": "python3"
  },
  "language_info": {
   "codemirror_mode": {
    "name": "ipython",
    "version": 3
   },
   "file_extension": ".py",
   "mimetype": "text/x-python",
   "name": "python",
   "nbconvert_exporter": "python",
   "pygments_lexer": "ipython3",
   "version": "3.9.12"
  }
 },
 "nbformat": 4,
 "nbformat_minor": 5
}
